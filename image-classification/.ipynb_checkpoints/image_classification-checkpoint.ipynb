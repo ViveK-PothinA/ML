{
 "cells": [
  {
   "cell_type": "markdown",
   "metadata": {
    "collapsed": true
   },
   "source": [
    "# Image Classification\n",
    "In this project, you'll classify images from the [CIFAR-10 dataset](https://www.cs.toronto.edu/~kriz/cifar.html).  The dataset consists of airplanes, dogs, cats, and other objects. You'll preprocess the images, then train a convolutional neural network on all the samples. The images need to be normalized and the labels need to be one-hot encoded.  You'll get to apply what you learned and build a convolutional, max pooling, dropout, and fully connected layers.  At the end, you'll get to see your neural network's predictions on the sample images.\n",
    "## Get the Data\n",
    "Run the following cell to download the [CIFAR-10 dataset for python](https://www.cs.toronto.edu/~kriz/cifar-10-python.tar.gz)."
   ]
  },
  {
   "cell_type": "code",
   "execution_count": 1,
   "metadata": {},
   "outputs": [
    {
     "name": "stdout",
     "output_type": "stream",
     "text": [
      "All files found!\n"
     ]
    }
   ],
   "source": [
    "\"\"\"\n",
    "DON'T MODIFY ANYTHING IN THIS CELL THAT IS BELOW THIS LINE\n",
    "\"\"\"\n",
    "from urllib.request import urlretrieve\n",
    "from os.path import isfile, isdir\n",
    "from tqdm import tqdm\n",
    "import problem_unittests as tests\n",
    "import tarfile\n",
    "\n",
    "cifar10_dataset_folder_path = 'cifar-10-batches-py'\n",
    "\n",
    "class DLProgress(tqdm):\n",
    "    last_block = 0\n",
    "\n",
    "    def hook(self, block_num=1, block_size=1, total_size=None):\n",
    "        self.total = total_size\n",
    "        self.update((block_num - self.last_block) * block_size)\n",
    "        self.last_block = block_num\n",
    "\n",
    "if not isfile('cifar-10-python.tar.gz'):\n",
    "    with DLProgress(unit='B', unit_scale=True, miniters=1, desc='CIFAR-10 Dataset') as pbar:\n",
    "        urlretrieve(\n",
    "            'https://www.cs.toronto.edu/~kriz/cifar-10-python.tar.gz',\n",
    "            'cifar-10-python.tar.gz',\n",
    "            pbar.hook)\n",
    "\n",
    "if not isdir(cifar10_dataset_folder_path):\n",
    "    with tarfile.open('cifar-10-python.tar.gz') as tar:\n",
    "        tar.extractall()\n",
    "        tar.close()\n",
    "\n",
    "\n",
    "tests.test_folder_path(cifar10_dataset_folder_path)"
   ]
  },
  {
   "cell_type": "markdown",
   "metadata": {},
   "source": [
    "## Explore the Data\n",
    "The dataset is broken into batches to prevent your machine from running out of memory.  The CIFAR-10 dataset consists of 5 batches, named `data_batch_1`, `data_batch_2`, etc.. Each batch contains the labels and images that are one of the following:\n",
    "* airplane\n",
    "* automobile\n",
    "* bird\n",
    "* cat\n",
    "* deer\n",
    "* dog\n",
    "* frog\n",
    "* horse\n",
    "* ship\n",
    "* truck\n",
    "\n",
    "Understanding a dataset is part of making predictions on the data.  Play around with the code cell below by changing the `batch_id` and `sample_id`. The `batch_id` is the id for a batch (1-5). The `sample_id` is the id for a image and label pair in the batch.\n",
    "\n",
    "Ask yourself \"What are all possible labels?\", \"What is the range of values for the image data?\", \"Are the labels in order or random?\".  Answers to questions like these will help you preprocess the data and end up with better predictions."
   ]
  },
  {
   "cell_type": "code",
   "execution_count": 2,
   "metadata": {},
   "outputs": [
    {
     "name": "stdout",
     "output_type": "stream",
     "text": [
      "\n",
      "Stats of batch 1:\n",
      "Samples: 10000\n",
      "Label Counts: {0: 1005, 1: 974, 2: 1032, 3: 1016, 4: 999, 5: 937, 6: 1030, 7: 1001, 8: 1025, 9: 981}\n",
      "First 20 Labels: [6, 9, 9, 4, 1, 1, 2, 7, 8, 3, 4, 7, 7, 2, 9, 9, 9, 3, 2, 6]\n",
      "\n",
      "Example of Image 5:\n",
      "Image - Min Value: 0 Max Value: 252\n",
      "Image - Shape: (32, 32, 3)\n",
      "Label - Label Id: 1 Name: automobile\n"
     ]
    },
    {
     "data": {
      "image/png": "[encoded data removed]",
      "text/plain": [
       "<matplotlib.figure.Figure at 0x1a1115e6eb8>"
      ]
     },
     "metadata": {
      "image/png": {
       "height": 250,
       "width": 253
      }
     },
     "output_type": "display_data"
    }
   ],
   "source": [
    "%matplotlib inline\n",
    "%config InlineBackend.figure_format = 'retina'\n",
    "\n",
    "import helper\n",
    "import numpy as np\n",
    "\n",
    "# Explore the dataset\n",
    "batch_id = 1\n",
    "sample_id = 5\n",
    "helper.display_stats(cifar10_dataset_folder_path, batch_id, sample_id)"
   ]
  },
  {
   "cell_type": "markdown",
   "metadata": {},
   "source": [
    "## Implement Preprocess Functions\n",
    "### Normalize\n",
    "In the cell below, implement the `normalize` function to take in image data, `x`, and return it as a normalized Numpy array. The values should be in the range of 0 to 1, inclusive.  The return object should be the same shape as `x`."
   ]
  },
  {
   "cell_type": "code",
   "execution_count": 3,
   "metadata": {},
   "outputs": [
    {
     "name": "stdout",
     "output_type": "stream",
     "text": [
      "Tests Passed\n"
     ]
    }
   ],
   "source": [
    "def normalize(x):\n",
    "    \"\"\"\n",
    "    Normalize a list of sample image data in the range of 0 to 1\n",
    "    : x: List of image data.  The image shape is (32, 32, 3)\n",
    "    : return: Numpy array of normalize data\n",
    "    \"\"\"\n",
    "    # TODO: Implement Function\n",
    "    \n",
    "    return (x / 255)\n",
    "\n",
    "\"\"\"\n",
    "DON'T MODIFY ANYTHING IN THIS CELL THAT IS BELOW THIS LINE\n",
    "\"\"\"\n",
    "tests.test_normalize(normalize)"
   ]
  },
  {
   "cell_type": "markdown",
   "metadata": {},
   "source": [
    "### One-hot encode\n",
    "Just like the previous code cell, you'll be implementing a function for preprocessing.  This time, you'll implement the `one_hot_encode` function. The input, `x`, are a list of labels.  Implement the function to return the list of labels as One-Hot encoded Numpy array.  The possible values for labels are 0 to 9. The one-hot encoding function should return the same encoding for each value between each call to `one_hot_encode`.  Make sure to save the map of encodings outside the function.\n",
    "\n",
    "**Hint:**\n",
    "\n",
    "Look into LabelBinarizer in the preprocessing module of sklearn."
   ]
  },
  {
   "cell_type": "code",
   "execution_count": 4,
   "metadata": {},
   "outputs": [
    {
     "name": "stdout",
     "output_type": "stream",
     "text": [
      "Tests Passed\n"
     ]
    }
   ],
   "source": [
    "def one_hot_encode(x):\n",
    "    \"\"\"\n",
    "    One hot encode a list of sample labels. Return a one-hot encoded vector for each label.\n",
    "    : x: List of sample Labels\n",
    "    : return: Numpy array of one-hot encoded labels\n",
    "    \"\"\"\n",
    "    # TODO: Implement Function\n",
    "    one_hot = np.eye(10)[x]\n",
    "    return one_hot\n",
    "\n",
    "\n",
    "\"\"\"\n",
    "DON'T MODIFY ANYTHING IN THIS CELL THAT IS BELOW THIS LINE\n",
    "\"\"\"\n",
    "tests.test_one_hot_encode(one_hot_encode)"
   ]
  },
  {
   "cell_type": "markdown",
   "metadata": {},
   "source": [
    "### Randomize Data\n",
    "As you saw from exploring the data above, the order of the samples are randomized.  It doesn't hurt to randomize it again, but you don't need to for this dataset."
   ]
  },
  {
   "cell_type": "markdown",
   "metadata": {},
   "source": [
    "## Preprocess all the data and save it\n",
    "Running the code cell below will preprocess all the CIFAR-10 data and save it to file. The code below also uses 10% of the training data for validation."
   ]
  },
  {
   "cell_type": "code",
   "execution_count": 5,
   "metadata": {
    "collapsed": true
   },
   "outputs": [],
   "source": [
    "\"\"\"\n",
    "DON'T MODIFY ANYTHING IN THIS CELL\n",
    "\"\"\"\n",
    "# Preprocess Training, Validation, and Testing Data\n",
    "helper.preprocess_and_save_data(cifar10_dataset_folder_path, normalize, one_hot_encode)"
   ]
  },
  {
   "cell_type": "markdown",
   "metadata": {},
   "source": [
    "# Check Point\n",
    "This is your first checkpoint.  If you ever decide to come back to this notebook or have to restart the notebook, you can start from here.  The preprocessed data has been saved to disk."
   ]
  },
  {
   "cell_type": "code",
   "execution_count": 6,
   "metadata": {
    "collapsed": true
   },
   "outputs": [],
   "source": [
    "\"\"\"\n",
    "DON'T MODIFY ANYTHING IN THIS CELL\n",
    "\"\"\"\n",
    "import pickle\n",
    "import problem_unittests as tests\n",
    "import helper\n",
    "\n",
    "# Load the Preprocessed Validation data\n",
    "valid_features, valid_labels = pickle.load(open('preprocess_validation.p', mode='rb'))"
   ]
  },
  {
   "cell_type": "markdown",
   "metadata": {},
   "source": [
    "## Build the network\n",
    "For the neural network, you'll build each layer into a function.  Most of the code you've seen has been outside of functions. To test your code more thoroughly, we require that you put each layer in a function.  This allows us to give you better feedback and test for simple mistakes using our unittests before you submit your project.\n",
    "\n",
    ">**Note:** If you're finding it hard to dedicate enough time for this course each week, we've provided a small shortcut to this part of the project. In the next couple of problems, you'll have the option to use classes from the [TensorFlow Layers](https://www.tensorflow.org/api_docs/python/tf/layers) or [TensorFlow Layers (contrib)](https://www.tensorflow.org/api_guides/python/contrib.layers) packages to build each layer, except the layers you build in the \"Convolutional and Max Pooling Layer\" section.  TF Layers is similar to Keras's and TFLearn's abstraction to layers, so it's easy to pickup.\n",
    "\n",
    ">However, if you would like to get the most out of this course, try to solve all the problems _without_ using anything from the TF Layers packages. You **can** still use classes from other packages that happen to have the same name as ones you find in TF Layers! For example, instead of using the TF Layers version of the `conv2d` class, [tf.layers.conv2d](https://www.tensorflow.org/api_docs/python/tf/layers/conv2d), you would want to use the TF Neural Network version of `conv2d`, [tf.nn.conv2d](https://www.tensorflow.org/api_docs/python/tf/nn/conv2d). \n",
    "\n",
    "Let's begin!\n",
    "\n",
    "### Input\n",
    "The neural network needs to read the image data, one-hot encoded labels, and dropout keep probability. Implement the following functions\n",
    "* Implement `neural_net_image_input`\n",
    " * Return a [TF Placeholder](https://www.tensorflow.org/api_docs/python/tf/placeholder)\n",
    " * Set the shape using `image_shape` with batch size set to `None`.\n",
    " * Name the TensorFlow placeholder \"x\" using the TensorFlow `name` parameter in the [TF Placeholder](https://www.tensorflow.org/api_docs/python/tf/placeholder).\n",
    "* Implement `neural_net_label_input`\n",
    " * Return a [TF Placeholder](https://www.tensorflow.org/api_docs/python/tf/placeholder)\n",
    " * Set the shape using `n_classes` with batch size set to `None`.\n",
    " * Name the TensorFlow placeholder \"y\" using the TensorFlow `name` parameter in the [TF Placeholder](https://www.tensorflow.org/api_docs/python/tf/placeholder).\n",
    "* Implement `neural_net_keep_prob_input`\n",
    " * Return a [TF Placeholder](https://www.tensorflow.org/api_docs/python/tf/placeholder) for dropout keep probability.\n",
    " * Name the TensorFlow placeholder \"keep_prob\" using the TensorFlow `name` parameter in the [TF Placeholder](https://www.tensorflow.org/api_docs/python/tf/placeholder).\n",
    "\n",
    "These names will be used at the end of the project to load your saved model.\n",
    "\n",
    "Note: `None` for shapes in TensorFlow allow for a dynamic size."
   ]
  },
  {
   "cell_type": "code",
   "execution_count": 7,
   "metadata": {},
   "outputs": [
    {
     "data": {
      "text/plain": [
       "''"
      ]
     },
     "execution_count": 7,
     "metadata": {},
     "output_type": "execute_result"
    }
   ],
   "source": [
    "import tensorflow as tf\n",
    "config = tf.ConfigProto()\n",
    "config.gpu_options.allow_growth = True\n",
    "config.gpu_options.per_process_gpu_memory_fraction = 0.5\n",
    "tf.test.gpu_device_name()"
   ]
  },
  {
   "cell_type": "code",
   "execution_count": 12,
   "metadata": {
    "scrolled": false
   },
   "outputs": [
    {
     "name": "stdout",
     "output_type": "stream",
     "text": [
      "Image Input Tests Passed.\n",
      "Label Input Tests Passed.\n",
      "Keep Prob Tests Passed.\n"
     ]
    }
   ],
   "source": [
    "\n",
    "\n",
    "def neural_net_image_input(image_shape):\n",
    "    \"\"\"\n",
    "    Return a Tensor for a batch of image input\n",
    "    : image_shape: Shape of the images\n",
    "    : return: Tensor for image input.\n",
    "    \"\"\"\n",
    "    # TODO: Implement Function\n",
    "    x = tf.placeholder(tf.float32,\n",
    "                       shape=[None, image_shape[0],\n",
    "                              image_shape[1],\n",
    "                              image_shape[2]],\n",
    "                       name = 'x')\n",
    "    return x\n",
    "\n",
    "def neural_net_label_input(n_classes):\n",
    "    \"\"\"\n",
    "    Return a Tensor for a batch of label input\n",
    "    : n_classes: Number of classes\n",
    "    : return: Tensor for label input.\n",
    "    \"\"\"\n",
    "    # TODO: Implement Function\n",
    "    y = tf.placeholder(tf.float32, \n",
    "                       shape=[None, n_classes], \n",
    "                       name = \"y\")\n",
    "\n",
    "    return y\n",
    "\n",
    "def neural_net_keep_prob_input():\n",
    "    \"\"\"\n",
    "    Return a Tensor for keep probability\n",
    "    : return: Tensor for keep probability.\n",
    "    \"\"\"\n",
    "    # TODO: Implement Function\n",
    "    keep_prob = tf.placeholder(tf.float32, name = \"keep_prob\")\n",
    "    return keep_prob\n",
    "\n",
    "\"\"\"\n",
    "DON'T MODIFY ANYTHING IN THIS CELL THAT IS BELOW THIS LINE\n",
    "\"\"\"\n",
    "tf.reset_default_graph()\n",
    "tests.test_nn_image_inputs(neural_net_image_input)\n",
    "tests.test_nn_label_inputs(neural_net_label_input)\n",
    "tests.test_nn_keep_prob_inputs(neural_net_keep_prob_input)"
   ]
  },
  {
   "cell_type": "markdown",
   "metadata": {},
   "source": [
    "### Convolution and Max Pooling Layer\n",
    "Convolution layers have a lot of success with images. For this code cell, you should implement the function `conv2d_maxpool` to apply convolution then max pooling:\n",
    "* Create the weight and bias using `conv_ksize`, `conv_num_outputs` and the shape of `x_tensor`.\n",
    "* Apply a convolution to `x_tensor` using weight and `conv_strides`.\n",
    " * We recommend you use same padding, but you're welcome to use any padding.\n",
    "* Add bias\n",
    "* Add a nonlinear activation to the convolution.\n",
    "* Apply Max Pooling using `pool_ksize` and `pool_strides`.\n",
    " * We recommend you use same padding, but you're welcome to use any padding.\n",
    "\n",
    "**Note:** You **can't** use [TensorFlow Layers](https://www.tensorflow.org/api_docs/python/tf/layers) or [TensorFlow Layers (contrib)](https://www.tensorflow.org/api_guides/python/contrib.layers) for **this** layer, but you can still use TensorFlow's [Neural Network](https://www.tensorflow.org/api_docs/python/tf/nn) package. You may still use the shortcut option for all the **other** layers.\n",
    "\n",
    "** Hint: **\n",
    "\n",
    "When unpacking values as an argument in Python, look into the [unpacking](https://docs.python.org/3/tutorial/controlflow.html#unpacking-argument-lists) operator. "
   ]
  },
  {
   "cell_type": "code",
   "execution_count": 13,
   "metadata": {
    "scrolled": false
   },
   "outputs": [
    {
     "name": "stdout",
     "output_type": "stream",
     "text": [
      "Tests Passed\n"
     ]
    }
   ],
   "source": [
    "def conv2d_maxpool(x_tensor, conv_num_outputs, conv_ksize, conv_strides, pool_ksize, pool_strides):\n",
    "    \"\"\"\n",
    "    Apply convolution then max pooling to x_tensor\n",
    "    :param x_tensor: TensorFlow Tensor\n",
    "    :param conv_num_outputs: Number of outputs for the convolutional layer\n",
    "    :param conv_ksize: kernal size 2-D Tuple for the convolutional layer\n",
    "    :param conv_strides: Stride 2-D Tuple for convolution\n",
    "    :param pool_ksize: kernal size 2-D Tuple for pool\n",
    "    :param pool_strides: Stride 2-D Tuple for pool\n",
    "    : return: A tensor that represents convolution and max pooling of x_tensor\n",
    "    \"\"\"\n",
    "    # TODO: Implement Function\n",
    "#     print(conv_strides, pool_strides, pool_ksize, conv_ksize, conv_num_outputs)\n",
    "    batch_size, height, width, depth = x_tensor.get_shape().as_list()\n",
    "    c_weights = tf.Variable(tf.truncated_normal(\n",
    "        [conv_ksize[0], conv_ksize[1], \n",
    "         depth, \n",
    "         conv_num_outputs],\n",
    "    stddev=0.1))\n",
    "    c_bias = tf.Variable(tf.zeros(conv_num_outputs))\n",
    "    conv_layer = tf.nn.conv2d(x_tensor, \n",
    "                              c_weights, \n",
    "                              strides=[1,conv_strides[0],\n",
    "                                       conv_strides[1],1], \n",
    "                              padding='SAME')\n",
    "    conv_layer = tf.nn.bias_add(conv_layer, c_bias)\n",
    "    relu_layer = tf.nn.relu(conv_layer)\n",
    "    pool_layer = tf.nn.max_pool(relu_layer, \n",
    "                                [1, pool_ksize[0], \n",
    "                                 pool_ksize[1], 1], \n",
    "                                strides=[1,pool_strides[0],\n",
    "                                         pool_strides[1],1], \n",
    "                                padding = 'SAME')\n",
    "    return pool_layer\n",
    "\n",
    "#     conv = tf.layers.conv2d(inputs=x_tensor, \n",
    "#                             filters=conv_num_outputs, \n",
    "#                             kernel_size=[conv_ksize[0],conv_ksize[1]], \n",
    "#                             padding=\"same\", \n",
    "#                             activation=tf.nn.relu, \n",
    "#                             strides=conv_strides)\n",
    "#     pool = tf.layers.max_pooling2d(inputs=conv, pool_size=[pool_ksize[0],pool_ksize[1]],strides=pool_strides)\n",
    "#     return pool\n",
    "\n",
    "\"\"\"\n",
    "DON'T MODIFY ANYTHING IN THIS CELL THAT IS BELOW THIS LINE\n",
    "\"\"\"\n",
    "tests.test_con_pool(conv2d_maxpool)"
   ]
  },
  {
   "cell_type": "markdown",
   "metadata": {},
   "source": [
    "### Flatten Layer\n",
    "Implement the `flatten` function to change the dimension of `x_tensor` from a 4-D tensor to a 2-D tensor.  The output should be the shape (*Batch Size*, *Flattened Image Size*). Shortcut option: you can use classes from the [TensorFlow Layers](https://www.tensorflow.org/api_docs/python/tf/layers) or [TensorFlow Layers (contrib)](https://www.tensorflow.org/api_guides/python/contrib.layers) packages for this layer. For more of a challenge, only use other TensorFlow packages."
   ]
  },
  {
   "cell_type": "code",
   "execution_count": 14,
   "metadata": {},
   "outputs": [
    {
     "name": "stdout",
     "output_type": "stream",
     "text": [
      "Tests Passed\n"
     ]
    }
   ],
   "source": [
    "def flatten(x_tensor):\n",
    "    \"\"\"\n",
    "    Flatten x_tensor to (Batch Size, Flattened Image Size)\n",
    "    : x_tensor: A tensor of size (Batch Size, ...), where ... are the image dimensions.\n",
    "    : return: A tensor of size (Batch Size, Flattened Image Size).\n",
    "    \"\"\"\n",
    "    # TODO: Implement Function\n",
    "#     print(x_tensor.get_shape().as_list())\n",
    "#     print(tf.shape(x_tensor)[0])\n",
    "#     t = tf.reshape(x_tensor, [tf.shape(x_tensor)[0], x_tensor.get_shape().as_list()[1]*x_tensor.get_shape().as_list()[2]*x_tensor.get_shape().as_list()[3]])\n",
    "#     return t\n",
    "    flat = tf.contrib.layers.flatten(x_tensor)\n",
    "    return flat\n",
    "\n",
    "\n",
    "\"\"\"\n",
    "DON'T MODIFY ANYTHING IN THIS CELL THAT IS BELOW THIS LINE\n",
    "\"\"\"\n",
    "tests.test_flatten(flatten)"
   ]
  },
  {
   "cell_type": "markdown",
   "metadata": {},
   "source": [
    "### Fully-Connected Layer\n",
    "Implement the `fully_conn` function to apply a fully connected layer to `x_tensor` with the shape (*Batch Size*, *num_outputs*). Shortcut option: you can use classes from the [TensorFlow Layers](https://www.tensorflow.org/api_docs/python/tf/layers) or [TensorFlow Layers (contrib)](https://www.tensorflow.org/api_guides/python/contrib.layers) packages for this layer. For more of a challenge, only use other TensorFlow packages."
   ]
  },
  {
   "cell_type": "code",
   "execution_count": 16,
   "metadata": {},
   "outputs": [
    {
     "name": "stdout",
     "output_type": "stream",
     "text": [
      "Tests Passed\n"
     ]
    }
   ],
   "source": [
    "def fully_conn(x_tensor, num_outputs):\n",
    "    \"\"\"\n",
    "    Apply a fully connected layer to x_tensor using weight and bias\n",
    "    : x_tensor: A 2-D tensor where the first dimension is batch size.\n",
    "    : num_outputs: The number of output that the new tensor should be.\n",
    "    : return: A 2-D tensor where the second dimension is num_outputs.\n",
    "    \"\"\"\n",
    "    # TODO: Implement Function\n",
    "#     print(x_tensor.get_shape().as_list())\n",
    "    layer_weights = tf.Variable(tf.truncated_normal(\n",
    "        [x_tensor.get_shape().as_list()[1],num_outputs],stddev=0.1))\n",
    "    layer_bias = tf.Variable(tf.zeros(num_outputs))\n",
    "    layer = tf.add(tf.matmul(x_tensor, layer_weights), layer_bias)\n",
    "    fullconn = tf.nn.relu(layer)\n",
    "    return fullconn\n",
    "#     fullconn = tf.layers.dense(inputs=x_tensor, units=num_outputs, activation=tf.nn.relu)\n",
    "#     return fullconn\n",
    "\n",
    "\n",
    "\"\"\"\n",
    "DON'T MODIFY ANYTHING IN THIS CELL THAT IS BELOW THIS LINE\n",
    "\"\"\"\n",
    "tests.test_fully_conn(fully_conn)"
   ]
  },
  {
   "cell_type": "markdown",
   "metadata": {},
   "source": [
    "### Output Layer\n",
    "Implement the `output` function to apply a fully connected layer to `x_tensor` with the shape (*Batch Size*, *num_outputs*). Shortcut option: you can use classes from the [TensorFlow Layers](https://www.tensorflow.org/api_docs/python/tf/layers) or [TensorFlow Layers (contrib)](https://www.tensorflow.org/api_guides/python/contrib.layers) packages for this layer. For more of a challenge, only use other TensorFlow packages.\n",
    "\n",
    "**Note:** Activation, softmax, or cross entropy should **not** be applied to this."
   ]
  },
  {
   "cell_type": "code",
   "execution_count": 17,
   "metadata": {},
   "outputs": [
    {
     "name": "stdout",
     "output_type": "stream",
     "text": [
      "Tests Passed\n"
     ]
    }
   ],
   "source": [
    "def output(x_tensor, num_outputs):\n",
    "    \"\"\"\n",
    "    Apply a output layer to x_tensor using weight and bias\n",
    "    : x_tensor: A 2-D tensor where the first dimension is batch size.\n",
    "    : num_outputs: The number of output that the new tensor should be.\n",
    "    : return: A 2-D tensor where the second dimension is num_outputs.\n",
    "    \"\"\"\n",
    "    # TODO: Implement Function\n",
    "    out_weights = tf.Variable(tf.truncated_normal(\n",
    "        [x_tensor.get_shape().as_list()[1],num_outputs],stddev=0.1))\n",
    "    out_bias = tf.Variable(tf.zeros(num_outputs))\n",
    "    out = tf.add(tf.matmul(x_tensor, out_weights), out_bias)\n",
    "    return out\n",
    "#     out = tf.layers.dense(inputs=x_tensor, units=num_outputs)\n",
    "#     return out\n",
    "\n",
    "\n",
    "\"\"\"\n",
    "DON'T MODIFY ANYTHING IN THIS CELL THAT IS BELOW THIS LINE\n",
    "\"\"\"\n",
    "tests.test_output(output)"
   ]
  },
  {
   "cell_type": "markdown",
   "metadata": {},
   "source": [
    "### Create Convolutional Model\n",
    "Implement the function `conv_net` to create a convolutional neural network model. The function takes in a batch of images, `x`, and outputs logits.  Use the layers you created above to create this model:\n",
    "\n",
    "* Apply 1, 2, or 3 Convolution and Max Pool layers\n",
    "* Apply a Flatten Layer\n",
    "* Apply 1, 2, or 3 Fully Connected Layers\n",
    "* Apply an Output Layer\n",
    "* Return the output\n",
    "* Apply [TensorFlow's Dropout](https://www.tensorflow.org/api_docs/python/tf/nn/dropout) to one or more layers in the model using `keep_prob`. "
   ]
  },
  {
   "cell_type": "code",
   "execution_count": 19,
   "metadata": {
    "scrolled": true
   },
   "outputs": [
    {
     "name": "stdout",
     "output_type": "stream",
     "text": [
      "Neural Network Built!\n"
     ]
    }
   ],
   "source": [
    "def conv_net(x, keep_prob):\n",
    "    \"\"\"\n",
    "    Create a convolutional neural network model\n",
    "    : x: Placeholder tensor that holds image data.\n",
    "    : keep_prob: Placeholder tensor that hold dropout keep probability.\n",
    "    : return: Tensor that represents logits\n",
    "    \"\"\"\n",
    "    # TODO: Apply 1, 2, or 3 Convolution and Max Pool layers\n",
    "    #    Play around with different number of outputs, kernel size and stride\n",
    "    # Function Definition from Above:\n",
    "    #    conv2d_maxpool(x_tensor, conv_num_outputs, conv_ksize, conv_strides, pool_ksize, pool_strides)\n",
    "    \n",
    "    \n",
    "#     layer1 = conv2d_maxpool(x, 64, [3, 3], [1,1], [2,2], [2,2])\n",
    "#     layer1 = conv2d_maxpool(layer1, 64, [2,2], [1,1], [2,2], [1,1])\n",
    "#     layer1 = conv2d_maxpool(layer1, conv_num_outputs=256, conv_ksize=[3,3], conv_strides=[1,1], pool_ksize=[2,2], pool_strides=[1,1])\n",
    "    \n",
    "    #     print(x.get_shape().as_list())\n",
    "    layer1 = conv2d_maxpool(x, conv_num_outputs=32, \n",
    "                            conv_ksize=[3, 3], \n",
    "                            conv_strides=[1,1], \n",
    "                            pool_ksize=[2,2], \n",
    "                            pool_strides=[2,2])\n",
    "    layer1 = conv2d_maxpool(layer1, conv_num_outputs=64, \n",
    "                            conv_ksize=[3, 3], \n",
    "                            conv_strides=[1,1], \n",
    "                            pool_ksize=[2,2], \n",
    "                            pool_strides=[2,2])\n",
    "\n",
    "    # TODO: Apply a Flatten Layer\n",
    "    # Function Definition from Above:\n",
    "    #   flatten(x_tensor)\n",
    "    layer2 = flatten(layer1)\n",
    "\n",
    "    # TODO: Apply 1, 2, or 3 Fully Connected Layers\n",
    "    #    Play around with different number of outputs\n",
    "    # Function Definition from Above:\n",
    "    #   fully_conn(x_tensor, num_outputs)\n",
    "    \n",
    "    layer3 = fully_conn(layer2, 128)\n",
    "    layer3 = fully_conn(layer3, 64)\n",
    "    \n",
    "    layer3 = tf.nn.dropout(layer3,keep_prob=keep_prob)\n",
    "    \n",
    "#     layer4 = fully_conn(layer3, 64)\n",
    "    \n",
    "    \n",
    "    \n",
    "    # TODO: Apply an Output Layer\n",
    "    #    Set this to the number of classes\n",
    "    # Function Definition from Above:\n",
    "    #   output(x_tensor, num_outputs)\n",
    "    num_outputs = 10\n",
    "    layer4 = output(layer3, num_outputs)\n",
    "    \n",
    "    \n",
    "    # TODO: return output\n",
    "    return layer4\n",
    "\n",
    "\n",
    "\"\"\"\n",
    "DON'T MODIFY ANYTHING IN THIS CELL THAT IS BELOW THIS LINE\n",
    "\"\"\"\n",
    "\n",
    "##############################\n",
    "## Build the Neural Network ##\n",
    "##############################\n",
    "\n",
    "# Remove previous weights, bias, inputs, etc..\n",
    "tf.reset_default_graph()\n",
    "\n",
    "# Inputs\n",
    "x = neural_net_image_input((32, 32, 3))\n",
    "y = neural_net_label_input(10)\n",
    "keep_prob = neural_net_keep_prob_input()\n",
    "\n",
    "# Model\n",
    "logits = conv_net(x, keep_prob)\n",
    "\n",
    "# Name logits Tensor, so that is can be loaded from disk after training\n",
    "logits = tf.identity(logits, name='logits')\n",
    "\n",
    "# Loss and Optimizer\n",
    "cost = tf.reduce_mean(tf.nn.softmax_cross_entropy_with_logits(logits=logits, labels=y))\n",
    "optimizer = tf.train.AdamOptimizer().minimize(cost)\n",
    "\n",
    "# Accuracy\n",
    "correct_pred = tf.equal(tf.argmax(logits, 1), tf.argmax(y, 1))\n",
    "accuracy = tf.reduce_mean(tf.cast(correct_pred, tf.float32), name='accuracy')\n",
    "\n",
    "tests.test_conv_net(conv_net)\n",
    "\n",
    "# print(conv_net)"
   ]
  },
  {
   "cell_type": "markdown",
   "metadata": {},
   "source": [
    "## Train the Neural Network\n",
    "### Single Optimization\n",
    "Implement the function `train_neural_network` to do a single optimization.  The optimization should use `optimizer` to optimize in `session` with a `feed_dict` of the following:\n",
    "* `x` for image input\n",
    "* `y` for labels\n",
    "* `keep_prob` for keep probability for dropout\n",
    "\n",
    "This function will be called for each batch, so `tf.global_variables_initializer()` has already been called.\n",
    "\n",
    "Note: Nothing needs to be returned. This function is only optimizing the neural network."
   ]
  },
  {
   "cell_type": "code",
   "execution_count": 20,
   "metadata": {},
   "outputs": [
    {
     "name": "stdout",
     "output_type": "stream",
     "text": [
      "Tests Passed\n"
     ]
    }
   ],
   "source": [
    "def train_neural_network(session, optimizer, keep_probability, feature_batch, label_batch):\n",
    "    \"\"\"\n",
    "    Optimize the session on a batch of images and labels\n",
    "    : session: Current TensorFlow session\n",
    "    : optimizer: TensorFlow optimizer function\n",
    "    : keep_probability: keep probability\n",
    "    : feature_batch: Batch of Numpy image data\n",
    "    : label_batch: Batch of Numpy label data\n",
    "    \"\"\"\n",
    "    # TODO: Implement Function\n",
    "    opt_run = session.run(optimizer, feed_dict={x:feature_batch, y:label_batch, keep_prob: keep_probability})\n",
    "    return opt_run\n",
    "\n",
    "\"\"\"\n",
    "DON'T MODIFY ANYTHING IN THIS CELL THAT IS BELOW THIS LINE\n",
    "\"\"\"\n",
    "tests.test_train_nn(train_neural_network)"
   ]
  },
  {
   "cell_type": "markdown",
   "metadata": {},
   "source": [
    "### Show Stats\n",
    "Implement the function `print_stats` to print loss and validation accuracy.  Use the global variables `valid_features` and `valid_labels` to calculate validation accuracy.  Use a keep probability of `1.0` to calculate the loss and validation accuracy."
   ]
  },
  {
   "cell_type": "code",
   "execution_count": 21,
   "metadata": {
    "collapsed": true
   },
   "outputs": [],
   "source": [
    "def print_stats(session, feature_batch, label_batch, cost, accuracy):\n",
    "    \"\"\"\n",
    "    Print information about loss and validation accuracy\n",
    "    : session: Current TensorFlow session\n",
    "    : feature_batch: Batch of Numpy image data\n",
    "    : label_batch: Batch of Numpy label data\n",
    "    : cost: TensorFlow cost function\n",
    "    : accuracy: TensorFlow accuracy function\n",
    "    \"\"\"\n",
    "    # TODO: Implement Function\n",
    "#     session.run()\n",
    "    loss = session.run(cost, feed_dict={\n",
    "        x: feature_batch, \n",
    "        y: label_batch, \n",
    "        keep_prob: 1.0})\n",
    "    validation_accuracy = session.run(accuracy, feed_dict={\n",
    "        x: valid_features, \n",
    "        y: valid_labels, \n",
    "        keep_prob: 1.0})\n",
    "    print(\"loss: \" + str(loss) + \" acc: \" + str(validation_accuracy))"
   ]
  },
  {
   "cell_type": "markdown",
   "metadata": {},
   "source": [
    "### Hyperparameters\n",
    "Tune the following parameters:\n",
    "* Set `epochs` to the number of iterations until the network stops learning or start overfitting\n",
    "* Set `batch_size` to the highest number that your machine has memory for.  Most people set them to common sizes of memory:\n",
    " * 64\n",
    " * 128\n",
    " * 256\n",
    " * ...\n",
    "* Set `keep_probability` to the probability of keeping a node using dropout"
   ]
  },
  {
   "cell_type": "code",
   "execution_count": 22,
   "metadata": {
    "collapsed": true
   },
   "outputs": [],
   "source": [
    "# TODO: Tune Parameters\n",
    "epochs = 20\n",
    "batch_size = 128\n",
    "keep_probability = 0.7"
   ]
  },
  {
   "cell_type": "markdown",
   "metadata": {},
   "source": [
    "### Train on a Single CIFAR-10 Batch\n",
    "Instead of training the neural network on all the CIFAR-10 batches of data, let's use a single batch. This should save time while you iterate on the model to get a better accuracy.  Once the final validation accuracy is 50% or greater, run the model on all the data in the next section."
   ]
  },
  {
   "cell_type": "code",
   "execution_count": 26,
   "metadata": {},
   "outputs": [
    {
     "name": "stdout",
     "output_type": "stream",
     "text": [
      "Checking the Training on a Single Batch...\n",
      "Epoch  1, CIFAR-10 Batch 1:  loss: 1.951128 acc: 0.349\n",
      "Epoch  2, CIFAR-10 Batch 1:  loss: 1.7722292 acc: 0.4522\n",
      "Epoch  3, CIFAR-10 Batch 1:  loss: 1.5708618 acc: 0.4802\n",
      "Epoch  4, CIFAR-10 Batch 1:  loss: 1.4514792 acc: 0.4786\n",
      "Epoch  5, CIFAR-10 Batch 1:  loss: 1.2074659 acc: 0.52\n",
      "Epoch  6, CIFAR-10 Batch 1:  loss: 1.0494254 acc: 0.5408\n",
      "Epoch  7, CIFAR-10 Batch 1:  loss: 0.93074435 acc: 0.551\n",
      "Epoch  8, CIFAR-10 Batch 1:  loss: 0.8048728 acc: 0.5598\n",
      "Epoch  9, CIFAR-10 Batch 1:  loss: 0.7421859 acc: 0.5704\n",
      "Epoch 10, CIFAR-10 Batch 1:  loss: 0.68208396 acc: 0.5794\n",
      "Epoch 11, CIFAR-10 Batch 1:  loss: 0.5376092 acc: 0.5936\n",
      "Epoch 12, CIFAR-10 Batch 1:  loss: 0.57956076 acc: 0.5894\n",
      "Epoch 13, CIFAR-10 Batch 1:  loss: 0.47617263 acc: 0.59\n",
      "Epoch 14, CIFAR-10 Batch 1:  loss: 0.37927276 acc: 0.5896\n",
      "Epoch 15, CIFAR-10 Batch 1:  loss: 0.3130689 acc: 0.5994\n",
      "Epoch 16, CIFAR-10 Batch 1:  loss: 0.26990962 acc: 0.5866\n",
      "Epoch 17, CIFAR-10 Batch 1:  loss: 0.23120293 acc: 0.6032\n",
      "Epoch 18, CIFAR-10 Batch 1:  loss: 0.19331251 acc: 0.598\n",
      "Epoch 19, CIFAR-10 Batch 1:  loss: 0.17709951 acc: 0.5972\n",
      "Epoch 20, CIFAR-10 Batch 1:  loss: 0.18466555 acc: 0.5914\n"
     ]
    }
   ],
   "source": [
    "# config = tf.ConfigProto()\n",
    "# config.gpu_options.allow_growth = True\n",
    "# config.gpu_options.per_process_gpu_memory_fraction = 0.5\n",
    "# tf.test.gpu_device_name()\n",
    "\"\"\"\n",
    "DON'T MODIFY ANYTHING IN THIS CELL\n",
    "\"\"\"\n",
    "print('Checking the Training on a Single Batch...')\n",
    "# with tf.Session(config=config) as sess:\n",
    "#     # Initializing the variables\n",
    "#     sess.run(tf.global_variables_initializer())\n",
    "\n",
    "with tf.Session(config=config) as sess:\n",
    "    # Initializing the variables\n",
    "    sess.run(tf.global_variables_initializer())\n",
    "    \n",
    "    # Training cycle\n",
    "    for epoch in range(epochs):\n",
    "        batch_i = 1\n",
    "        for batch_features, batch_labels in helper.load_preprocess_training_batch(batch_i, batch_size):\n",
    "            train_neural_network(sess, optimizer, keep_probability, batch_features, batch_labels)\n",
    "        print('Epoch {:>2}, CIFAR-10 Batch {}:  '.format(epoch + 1, batch_i), end='')\n",
    "        print_stats(sess, batch_features, batch_labels, cost, accuracy)"
   ]
  },
  {
   "cell_type": "markdown",
   "metadata": {},
   "source": [
    "### Fully Train the Model\n",
    "Now that you got a good accuracy with a single CIFAR-10 batch, try it with all five batches."
   ]
  },
  {
   "cell_type": "code",
   "execution_count": 27,
   "metadata": {},
   "outputs": [
    {
     "name": "stdout",
     "output_type": "stream",
     "text": [
      "Training...\n",
      "Epoch  1, CIFAR-10 Batch 1:  loss: 2.0249236 acc: 0.3556\n",
      "Epoch  1, CIFAR-10 Batch 2:  loss: 1.6552944 acc: 0.411\n",
      "Epoch  1, CIFAR-10 Batch 3:  loss: 1.3365079 acc: 0.4648\n",
      "Epoch  1, CIFAR-10 Batch 4:  loss: 1.3521441 acc: 0.4686\n",
      "Epoch  1, CIFAR-10 Batch 5:  loss: 1.3083613 acc: 0.523\n",
      "Epoch  2, CIFAR-10 Batch 1:  loss: 1.5198232 acc: 0.5324\n",
      "Epoch  2, CIFAR-10 Batch 2:  loss: 1.1387918 acc: 0.527\n",
      "Epoch  2, CIFAR-10 Batch 3:  loss: 0.97224104 acc: 0.562\n",
      "Epoch  2, CIFAR-10 Batch 4:  loss: 1.0565459 acc: 0.5828\n",
      "Epoch  2, CIFAR-10 Batch 5:  loss: 1.0574999 acc: 0.5776\n",
      "Epoch  3, CIFAR-10 Batch 1:  loss: 1.2063547 acc: 0.5864\n",
      "Epoch  3, CIFAR-10 Batch 2:  loss: 0.912938 acc: 0.6022\n",
      "Epoch  3, CIFAR-10 Batch 3:  loss: 0.7388178 acc: 0.6182\n",
      "Epoch  3, CIFAR-10 Batch 4:  loss: 0.8667997 acc: 0.6242\n",
      "Epoch  3, CIFAR-10 Batch 5:  loss: 0.82160366 acc: 0.6174\n",
      "Epoch  4, CIFAR-10 Batch 1:  loss: 0.9911221 acc: 0.628\n",
      "Epoch  4, CIFAR-10 Batch 2:  loss: 0.75134313 acc: 0.636\n",
      "Epoch  4, CIFAR-10 Batch 3:  loss: 0.6233109 acc: 0.6196\n",
      "Epoch  4, CIFAR-10 Batch 4:  loss: 0.6983563 acc: 0.659\n",
      "Epoch  4, CIFAR-10 Batch 5:  loss: 0.63894606 acc: 0.6418\n",
      "Epoch  5, CIFAR-10 Batch 1:  loss: 0.849349 acc: 0.6522\n",
      "Epoch  5, CIFAR-10 Batch 2:  loss: 0.6206166 acc: 0.6594\n",
      "Epoch  5, CIFAR-10 Batch 3:  loss: 0.52385676 acc: 0.617\n",
      "Epoch  5, CIFAR-10 Batch 4:  loss: 0.6429079 acc: 0.667\n",
      "Epoch  5, CIFAR-10 Batch 5:  loss: 0.5915562 acc: 0.654\n",
      "Epoch  6, CIFAR-10 Batch 1:  loss: 0.6749406 acc: 0.6668\n",
      "Epoch  6, CIFAR-10 Batch 2:  loss: 0.5263858 acc: 0.6588\n",
      "Epoch  6, CIFAR-10 Batch 3:  loss: 0.40452853 acc: 0.6584\n",
      "Epoch  6, CIFAR-10 Batch 4:  loss: 0.4908821 acc: 0.6628\n",
      "Epoch  6, CIFAR-10 Batch 5:  loss: 0.46978253 acc: 0.6672\n",
      "Epoch  7, CIFAR-10 Batch 1:  loss: 0.5654951 acc: 0.6736\n",
      "Epoch  7, CIFAR-10 Batch 2:  loss: 0.41939563 acc: 0.6634\n",
      "Epoch  7, CIFAR-10 Batch 3:  loss: 0.32551187 acc: 0.6792\n",
      "Epoch  7, CIFAR-10 Batch 4:  loss: 0.41167966 acc: 0.6744\n",
      "Epoch  7, CIFAR-10 Batch 5:  loss: 0.39121014 acc: 0.6776\n",
      "Epoch  8, CIFAR-10 Batch 1:  loss: 0.41446248 acc: 0.676\n",
      "Epoch  8, CIFAR-10 Batch 2:  loss: 0.37112105 acc: 0.6846\n",
      "Epoch  8, CIFAR-10 Batch 3:  loss: 0.28656012 acc: 0.6896\n",
      "Epoch  8, CIFAR-10 Batch 4:  loss: 0.35746512 acc: 0.6842\n",
      "Epoch  8, CIFAR-10 Batch 5:  loss: 0.29391488 acc: 0.6782\n",
      "Epoch  9, CIFAR-10 Batch 1:  loss: 0.38304326 acc: 0.6768\n",
      "Epoch  9, CIFAR-10 Batch 2:  loss: 0.2837724 acc: 0.6854\n",
      "Epoch  9, CIFAR-10 Batch 3:  loss: 0.23540452 acc: 0.6938\n",
      "Epoch  9, CIFAR-10 Batch 4:  loss: 0.273237 acc: 0.6808\n",
      "Epoch  9, CIFAR-10 Batch 5:  loss: 0.2540331 acc: 0.6848\n",
      "Epoch 10, CIFAR-10 Batch 1:  loss: 0.3023178 acc: 0.6986\n",
      "Epoch 10, CIFAR-10 Batch 2:  loss: 0.20780584 acc: 0.6934\n",
      "Epoch 10, CIFAR-10 Batch 3:  loss: 0.19543456 acc: 0.6906\n",
      "Epoch 10, CIFAR-10 Batch 4:  loss: 0.2194181 acc: 0.695\n",
      "Epoch 10, CIFAR-10 Batch 5:  loss: 0.21574087 acc: 0.6988\n",
      "Epoch 11, CIFAR-10 Batch 1:  loss: 0.24578516 acc: 0.6938\n",
      "Epoch 11, CIFAR-10 Batch 2:  loss: 0.16231331 acc: 0.698\n",
      "Epoch 11, CIFAR-10 Batch 3:  loss: 0.1949292 acc: 0.6744\n",
      "Epoch 11, CIFAR-10 Batch 4:  loss: 0.1829119 acc: 0.6998\n",
      "Epoch 11, CIFAR-10 Batch 5:  loss: 0.16132897 acc: 0.6948\n",
      "Epoch 12, CIFAR-10 Batch 1:  loss: 0.19029541 acc: 0.7004\n",
      "Epoch 12, CIFAR-10 Batch 2:  loss: 0.14031386 acc: 0.6898\n",
      "Epoch 12, CIFAR-10 Batch 3:  loss: 0.16085465 acc: 0.6784\n",
      "Epoch 12, CIFAR-10 Batch 4:  loss: 0.18847764 acc: 0.6788\n",
      "Epoch 12, CIFAR-10 Batch 5:  loss: 0.12700082 acc: 0.6942\n",
      "Epoch 13, CIFAR-10 Batch 1:  loss: 0.13807397 acc: 0.7018\n",
      "Epoch 13, CIFAR-10 Batch 2:  loss: 0.13059866 acc: 0.6784\n",
      "Epoch 13, CIFAR-10 Batch 3:  loss: 0.1107444 acc: 0.6882\n",
      "Epoch 13, CIFAR-10 Batch 4:  loss: 0.18073654 acc: 0.6872\n",
      "Epoch 13, CIFAR-10 Batch 5:  loss: 0.09076776 acc: 0.6994\n",
      "Epoch 14, CIFAR-10 Batch 1:  loss: 0.14242387 acc: 0.688\n",
      "Epoch 14, CIFAR-10 Batch 2:  loss: 0.14233576 acc: 0.67\n",
      "Epoch 14, CIFAR-10 Batch 3:  loss: 0.09632082 acc: 0.6884\n",
      "Epoch 14, CIFAR-10 Batch 4:  loss: 0.13644099 acc: 0.6732\n",
      "Epoch 14, CIFAR-10 Batch 5:  loss: 0.09636546 acc: 0.6956\n",
      "Epoch 15, CIFAR-10 Batch 1:  loss: 0.14010909 acc: 0.6864\n",
      "Epoch 15, CIFAR-10 Batch 2:  loss: 0.08934174 acc: 0.6788\n",
      "Epoch 15, CIFAR-10 Batch 3:  loss: 0.094540216 acc: 0.6966\n",
      "Epoch 15, CIFAR-10 Batch 4:  loss: 0.10968425 acc: 0.6964\n",
      "Epoch 15, CIFAR-10 Batch 5:  loss: 0.050566614 acc: 0.692\n",
      "Epoch 16, CIFAR-10 Batch 1:  loss: 0.09841309 acc: 0.6914\n",
      "Epoch 16, CIFAR-10 Batch 2:  loss: 0.08468589 acc: 0.678\n",
      "Epoch 16, CIFAR-10 Batch 3:  loss: 0.07288195 acc: 0.687\n",
      "Epoch 16, CIFAR-10 Batch 4:  loss: 0.09448182 acc: 0.6776\n",
      "Epoch 16, CIFAR-10 Batch 5:  loss: 0.06455786 acc: 0.686\n",
      "Epoch 17, CIFAR-10 Batch 1:  loss: 0.07258676 acc: 0.689\n",
      "Epoch 17, CIFAR-10 Batch 2:  loss: 0.10267238 acc: 0.6878\n",
      "Epoch 17, CIFAR-10 Batch 3:  loss: 0.064514816 acc: 0.666\n",
      "Epoch 17, CIFAR-10 Batch 4:  loss: 0.10074556 acc: 0.6712\n",
      "Epoch 17, CIFAR-10 Batch 5:  loss: 0.066709384 acc: 0.6932\n",
      "Epoch 18, CIFAR-10 Batch 1:  loss: 0.061049182 acc: 0.6924\n",
      "Epoch 18, CIFAR-10 Batch 2:  loss: 0.071795546 acc: 0.6726\n",
      "Epoch 18, CIFAR-10 Batch 3:  loss: 0.05331106 acc: 0.6584\n",
      "Epoch 18, CIFAR-10 Batch 4:  loss: 0.093846984 acc: 0.6576\n",
      "Epoch 18, CIFAR-10 Batch 5:  loss: 0.061356593 acc: 0.6912\n",
      "Epoch 19, CIFAR-10 Batch 1:  loss: 0.046648294 acc: 0.6824\n",
      "Epoch 19, CIFAR-10 Batch 2:  loss: 0.046815515 acc: 0.6688\n",
      "Epoch 19, CIFAR-10 Batch 3:  loss: 0.034107707 acc: 0.6716\n",
      "Epoch 19, CIFAR-10 Batch 4:  loss: 0.07428502 acc: 0.6594\n",
      "Epoch 19, CIFAR-10 Batch 5:  loss: 0.061288744 acc: 0.6872\n",
      "Epoch 20, CIFAR-10 Batch 1:  loss: 0.03842817 acc: 0.6584\n",
      "Epoch 20, CIFAR-10 Batch 2:  loss: 0.027853336 acc: 0.6742\n",
      "Epoch 20, CIFAR-10 Batch 3:  loss: 0.033793975 acc: 0.6858\n",
      "Epoch 20, CIFAR-10 Batch 4:  loss: 0.051757157 acc: 0.6586\n",
      "Epoch 20, CIFAR-10 Batch 5:  loss: 0.054138802 acc: 0.683\n"
     ]
    }
   ],
   "source": [
    "\"\"\"\n",
    "DON'T MODIFY ANYTHING IN THIS CELL\n",
    "\"\"\"\n",
    "save_model_path = './image_classification'\n",
    "\n",
    "print('Training...')\n",
    "with tf.Session() as sess:\n",
    "    # Initializing the variables\n",
    "    sess.run(tf.global_variables_initializer())\n",
    "    \n",
    "    # Training cycle\n",
    "    for epoch in range(epochs):\n",
    "        # Loop over all batches\n",
    "        n_batches = 5\n",
    "        for batch_i in range(1, n_batches + 1):\n",
    "            for batch_features, batch_labels in helper.load_preprocess_training_batch(batch_i, batch_size):\n",
    "                train_neural_network(sess, optimizer, keep_probability, batch_features, batch_labels)\n",
    "            print('Epoch {:>2}, CIFAR-10 Batch {}:  '.format(epoch + 1, batch_i), end='')\n",
    "            print_stats(sess, batch_features, batch_labels, cost, accuracy)\n",
    "            \n",
    "    # Save Model\n",
    "    saver = tf.train.Saver()\n",
    "    save_path = saver.save(sess, save_model_path)"
   ]
  },
  {
   "cell_type": "markdown",
   "metadata": {},
   "source": [
    "# Checkpoint\n",
    "The model has been saved to disk.\n",
    "## Test Model\n",
    "Test your model against the test dataset.  This will be your final accuracy. You should have an accuracy greater than 50%. If you don't, keep tweaking the model architecture and parameters."
   ]
  },
  {
   "cell_type": "code",
   "execution_count": 29,
   "metadata": {},
   "outputs": [
    {
     "name": "stdout",
     "output_type": "stream",
     "text": [
      "INFO:tensorflow:Restoring parameters from ./image_classification\n",
      "Testing Accuracy: 0.6781052215189873\n",
      "\n"
     ]
    },
    {
     "data": {
      "image/png": "[encoded data removed]",
      "text/plain": [
       "<matplotlib.figure.Figure at 0x1a1136c1710>"
      ]
     },
     "metadata": {
      "image/png": {
       "height": 319,
       "width": 355
      }
     },
     "output_type": "display_data"
    }
   ],
   "source": [
    "\"\"\"\n",
    "DON'T MODIFY ANYTHING IN THIS CELL\n",
    "\"\"\"\n",
    "%matplotlib inline\n",
    "%config InlineBackend.figure_format = 'retina'\n",
    "\n",
    "import tensorflow as tf\n",
    "import pickle\n",
    "import helper\n",
    "import random\n",
    "\n",
    "# Set batch size if not already set\n",
    "try:\n",
    "    if batch_size:\n",
    "        pass\n",
    "except NameError:\n",
    "    batch_size = 64\n",
    "\n",
    "save_model_path = './image_classification'\n",
    "n_samples = 4\n",
    "top_n_predictions = 3\n",
    "\n",
    "def test_model():\n",
    "    \"\"\"\n",
    "    Test the saved model against the test dataset\n",
    "    \"\"\"\n",
    "\n",
    "    test_features, test_labels = pickle.load(open('preprocess_training.p', mode='rb'))\n",
    "    loaded_graph = tf.Graph()\n",
    "\n",
    "    with tf.Session(graph=loaded_graph) as sess:\n",
    "        # Load model\n",
    "        loader = tf.train.import_meta_graph(save_model_path + '.meta')\n",
    "        loader.restore(sess, save_model_path)\n",
    "\n",
    "        # Get Tensors from loaded model\n",
    "        loaded_x = loaded_graph.get_tensor_by_name('x:0')\n",
    "        loaded_y = loaded_graph.get_tensor_by_name('y:0')\n",
    "        loaded_keep_prob = loaded_graph.get_tensor_by_name('keep_prob:0')\n",
    "        loaded_logits = loaded_graph.get_tensor_by_name('logits:0')\n",
    "        loaded_acc = loaded_graph.get_tensor_by_name('accuracy:0')\n",
    "        \n",
    "        # Get accuracy in batches for memory limitations\n",
    "        test_batch_acc_total = 0\n",
    "        test_batch_count = 0\n",
    "        \n",
    "        for train_feature_batch, train_label_batch in helper.batch_features_labels(test_features, test_labels, batch_size):\n",
    "            test_batch_acc_total += sess.run(\n",
    "                loaded_acc,\n",
    "                feed_dict={loaded_x: train_feature_batch, loaded_y: train_label_batch, loaded_keep_prob: 1.0})\n",
    "            test_batch_count += 1\n",
    "\n",
    "        print('Testing Accuracy: {}\\n'.format(test_batch_acc_total/test_batch_count))\n",
    "\n",
    "        # Print Random Samples\n",
    "        random_test_features, random_test_labels = tuple(zip(*random.sample(list(zip(test_features, test_labels)), n_samples)))\n",
    "        random_test_predictions = sess.run(\n",
    "            tf.nn.top_k(tf.nn.softmax(loaded_logits), top_n_predictions),\n",
    "            feed_dict={loaded_x: random_test_features, loaded_y: random_test_labels, loaded_keep_prob: 1.0})\n",
    "        helper.display_image_predictions(random_test_features, random_test_labels, random_test_predictions)\n",
    "\n",
    "\n",
    "test_model()"
   ]
  },
  {
   "cell_type": "markdown",
   "metadata": {},
   "source": [
    "## Why 50-80% Accuracy?\n",
    "You might be wondering why you can't get an accuracy any higher. First things first, 50% isn't bad for a simple CNN.  Pure guessing would get you 10% accuracy. That's because there are many more techniques that can be applied to your model and we recemmond that once you are done with this project, you explore!\n",
    "\n",
    "## Submitting This Project\n",
    "When submitting this project, make sure to run all the cells before saving the notebook.  Save the notebook file as \"image_classification.ipynb\" and save it as a HTML file under \"File\" -> \"Download as\".  Include the \"helper.py\" and \"problem_unittests.py\" files in your submission."
   ]
  }
 ],
 "metadata": {
  "kernelspec": {
   "display_name": "Python 3",
   "language": "python",
   "name": "python3"
  },
  "language_info": {
   "codemirror_mode": {
    "name": "ipython",
    "version": 3
   },
   "file_extension": ".py",
   "mimetype": "text/x-python",
   "name": "python",
   "nbconvert_exporter": "python",
   "pygments_lexer": "ipython3",
   "version": "3.5.3"
  }
 },
 "nbformat": 4,
 "nbformat_minor": 1
}
